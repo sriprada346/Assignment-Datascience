{
  "nbformat": 4,
  "nbformat_minor": 0,
  "metadata": {
    "colab": {
      "name": "Assignment 1 (Data Science).ipynb",
      "provenance": [],
      "toc_visible": true
    },
    "kernelspec": {
      "name": "python3",
      "display_name": "Python 3"
    }
  },
  "cells": [
    {
      "cell_type": "markdown",
      "metadata": {
        "id": "blFTZbhS_-3u"
      },
      "source": [
        "#                                    ASSIGNMENT 1 (DAY 1)"
      ]
    },
    {
      "cell_type": "markdown",
      "metadata": {
        "id": "1JWZUUDgAYC8"
      },
      "source": [
        "Question 1:  B. RAINBOW"
      ]
    },
    {
      "cell_type": "markdown",
      "metadata": {
        "id": "UBMJ0ITKAybN"
      },
      "source": [
        "Question 2:"
      ]
    },
    {
      "cell_type": "code",
      "metadata": {
        "id": "n2cGH8ebBBh0",
        "outputId": "9870f208-da4d-4b37-f244-99ce79da956a",
        "colab": {
          "base_uri": "https://localhost:8080/"
        }
      },
      "source": [
        "print(\"LETS UPGRADE\")"
      ],
      "execution_count": 1,
      "outputs": [
        {
          "output_type": "stream",
          "text": [
            "LETS UPGRADE\n"
          ],
          "name": "stdout"
        }
      ]
    },
    {
      "cell_type": "markdown",
      "metadata": {
        "id": "9uR8rRkLBK8N"
      },
      "source": [
        "Question 3:"
      ]
    },
    {
      "cell_type": "code",
      "metadata": {
        "id": "yOZaH1MXBkMO",
        "outputId": "c9277bfe-d28c-45d7-f7d5-605da23983fd",
        "colab": {
          "base_uri": "https://localhost:8080/"
        }
      },
      "source": [
        "#cost price as cp\n",
        "cp = float(input(\"Enter the cost price of a product:\"))\n",
        "#selling price as sp\n",
        "sp = float(input(\"Enter the selling price of a product:\"))\n",
        "if cp > sp:\n",
        "  print(\"LOSS\")\n",
        "elif cp < sp:\n",
        "  print(\"PROFIT\")\n",
        "else:\n",
        "  print(\"NEITHER\")    "
      ],
      "execution_count": 3,
      "outputs": [
        {
          "output_type": "stream",
          "text": [
            "Enter the cost price of a product:34\n",
            "Enter the selling price of a product:44\n",
            "PROFIT\n"
          ],
          "name": "stdout"
        }
      ]
    },
    {
      "cell_type": "markdown",
      "metadata": {
        "id": "chvX80_uDjA1"
      },
      "source": [
        "Question 4:"
      ]
    },
    {
      "cell_type": "code",
      "metadata": {
        "id": "ZyMH-H3eDmQR",
        "outputId": "057463d7-b3d5-4850-b84f-836aa0d656a1",
        "colab": {
          "base_uri": "https://localhost:8080/"
        }
      },
      "source": [
        "euros = float(input(\"Number of Euros:\"))\n",
        "rupees = 80 * euros\n",
        "print(rupees,\"Rupees\")"
      ],
      "execution_count": 5,
      "outputs": [
        {
          "output_type": "stream",
          "text": [
            "Number of Euros:3\n",
            "240.0 Rupees\n"
          ],
          "name": "stdout"
        }
      ]
    }
  ]
}