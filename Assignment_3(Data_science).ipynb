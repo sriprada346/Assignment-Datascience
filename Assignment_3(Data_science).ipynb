{
  "nbformat": 4,
  "nbformat_minor": 0,
  "metadata": {
    "colab": {
      "name": "Assignment 3(Data science).ipynb",
      "provenance": [],
      "collapsed_sections": []
    },
    "kernelspec": {
      "name": "python3",
      "display_name": "Python 3"
    }
  },
  "cells": [
    {
      "cell_type": "code",
      "metadata": {
        "id": "I4Awm0uQu0Ay",
        "outputId": "57461ff0-f339-4c70-b377-ce11e92ba235",
        "colab": {
          "base_uri": "https://localhost:8080/"
        }
      },
      "source": [
        "pip install numpy"
      ],
      "execution_count": null,
      "outputs": [
        {
          "output_type": "stream",
          "text": [
            "Requirement already satisfied: numpy in /usr/local/lib/python3.6/dist-packages (1.18.5)\n"
          ],
          "name": "stdout"
        }
      ]
    },
    {
      "cell_type": "markdown",
      "metadata": {
        "id": "RhDQnByroSX2"
      },
      "source": [
        "Question 1:"
      ]
    },
    {
      "cell_type": "code",
      "metadata": {
        "id": "aGEqfmNToxYn",
        "outputId": "5f3abc98-62f4-4252-acb1-c1fcdb0074d7",
        "colab": {
          "base_uri": "https://localhost:8080/"
        }
      },
      "source": [
        "import numpy as np\n",
        "arr = np.arange(2, 50, 3)\n",
        "print (arr)"
      ],
      "execution_count": null,
      "outputs": [
        {
          "output_type": "stream",
          "text": [
            "[ 2  5  8 11 14 17 20 23 26 29 32 35 38 41 44 47]\n"
          ],
          "name": "stdout"
        }
      ]
    },
    {
      "cell_type": "markdown",
      "metadata": {
        "id": "-B8pa0hU0BAb"
      },
      "source": [
        "Question 2:"
      ]
    },
    {
      "cell_type": "code",
      "metadata": {
        "id": "csMrcl410Znz",
        "outputId": "84aea300-8390-49a2-eabc-bd91264b9ad5",
        "colab": {
          "base_uri": "https://localhost:8080/"
        }
      },
      "source": [
        "import numpy as np\n",
        "list_1 = []                                            #creating empty lists\n",
        "list_2 = []\n",
        "\n",
        "for i in range(5):                                     #values for list_1\n",
        "  x = int(input(\"\\n Enter the value for list_1:\"))\n",
        "  list_1.append(x)\n",
        "\n",
        "for i in range(5):\n",
        "  x = int(input(\"\\n Enter the value for list_2:\"))     #values for list_2\n",
        "  list_2.append(x)\n",
        "\n",
        "arr_1 = np.array(list_1)                               #converting list to numpy array \n",
        "arr_2 = np.array(list_2)\n",
        "\n",
        "arr = np.concatenate((arr_1,arr_2))                   #concatenate arr_1 and arr_2\n",
        "print(\"\\n concatenated array:\",arr)\n",
        "\n",
        "sort_arr = np.sort(arr)\n",
        "print(\"\\n sorted array:\",sort_arr)                    #sorting sort_arr\n",
        "\n",
        "\n"
      ],
      "execution_count": null,
      "outputs": [
        {
          "output_type": "stream",
          "text": [
            "\n",
            " Enter the value for list_1:3\n",
            "\n",
            " Enter the value for list_1:2\n",
            "\n",
            " Enter the value for list_1:7\n",
            "\n",
            " Enter the value for list_1:5\n",
            "\n",
            " Enter the value for list_1:1\n",
            "\n",
            " Enter the value for list_2:7\n",
            "\n",
            " Enter the value for list_2:9\n",
            "\n",
            " Enter the value for list_2:4\n",
            "\n",
            " Enter the value for list_2:6\n",
            "\n",
            " Enter the value for list_2:8\n",
            "\n",
            " concatenated array: [3 2 7 5 1 7 9 4 6 8]\n",
            "\n",
            " sorted array: [1 2 3 4 5 6 7 7 8 9]\n"
          ],
          "name": "stdout"
        }
      ]
    },
    {
      "cell_type": "markdown",
      "metadata": {
        "id": "l2qiJth36ETS"
      },
      "source": [
        "Question 3:"
      ]
    },
    {
      "cell_type": "markdown",
      "metadata": {
        "id": "mTXRwRueI6VB"
      },
      "source": [
        "An array class in numpy called as ndarry.\n",
        "\n",
        "Snippet for finding dimension:\n",
        " Arrayname.ndim\n",
        "\n",
        "Snippet for finding size:\n",
        "  Arrayname.size  "
      ]
    },
    {
      "cell_type": "code",
      "metadata": {
        "id": "r-DDfjGyKSTZ",
        "outputId": "b44ce480-87d9-4ac1-b5ea-e4dcae964adf",
        "colab": {
          "base_uri": "https://localhost:8080/"
        }
      },
      "source": [
        "import numpy as np\n",
        "arr = np.array([[1,2,4],[5,3,4]])\n",
        "arr.shape\n",
        "\n",
        "print(\"\\n Dimension in array:\",arr.ndim)\n",
        "\n",
        "print(\"\\n Size of the array:\",arr.size)\n",
        "\n"
      ],
      "execution_count": 14,
      "outputs": [
        {
          "output_type": "stream",
          "text": [
            "\n",
            " Dimension in array: 2\n",
            "\n",
            " Size of the array: 6\n"
          ],
          "name": "stdout"
        }
      ]
    },
    {
      "cell_type": "markdown",
      "metadata": {
        "id": "WQeo3CYBdXCU"
      },
      "source": [
        "Question 4:"
      ]
    },
    {
      "cell_type": "markdown",
      "metadata": {
        "id": "oGwoVTvPf-qG"
      },
      "source": [
        "                            Newaxis Snippet \n",
        "\n",
        "\n",
        "\n",
        "\n"
      ]
    },
    {
      "cell_type": "code",
      "metadata": {
        "id": "w0HKOVvNgFfw",
        "outputId": "219c9de3-a6c5-4ec7-96a8-53c6ed3d4315",
        "colab": {
          "base_uri": "https://localhost:8080/"
        }
      },
      "source": [
        "import numpy as np\n",
        "\n",
        "arr = np.arange(6)                      #creating a 1D array\n",
        "print(\"\\n shape of array:\",arr.shape)\n",
        "\n",
        "row_arr = arr[np.newaxis,:]              #converting to 2D array in row major\n",
        "print(\"\\nShape of 2D array in row major :\",row_arr.shape)\n",
        "\n",
        "col_arr = arr[:,np.newaxis]              #converting to 2D array in column major\n",
        "print(\"\\n Shape of 2D array in coloumn major:\",col_arr.shape )\n",
        "\n"
      ],
      "execution_count": 22,
      "outputs": [
        {
          "output_type": "stream",
          "text": [
            "\n",
            " shape of array: (6,)\n",
            "\n",
            "Shape of 2D array in row major : (1, 6)\n",
            "\n",
            " Shape of 2D array in coloumn major: (6, 1)\n"
          ],
          "name": "stdout"
        }
      ]
    },
    {
      "cell_type": "markdown",
      "metadata": {
        "id": "Okjc7ygMjk9x"
      },
      "source": [
        "                                  **expand_dims** snippet"
      ]
    },
    {
      "cell_type": "code",
      "metadata": {
        "id": "kiorp6zOjlxJ",
        "outputId": "bdf1fee3-a695-4618-cdb4-2cc1f368e260",
        "colab": {
          "base_uri": "https://localhost:8080/"
        }
      },
      "source": [
        "import numpy as np\n",
        "\n",
        "arr = np.arange(6)\n",
        "print(\"\\n shape of array :\",arr.shape)\n",
        "\n",
        "row_arr = np.expand_dims(arr,axis=0)\n",
        "print(\"\\n Shape of 2d Array in row major\",row_arr.shape)\n",
        "\n",
        "col_arr = np.expand_dims(arr,axis=1)\n",
        "print(\"\\n Shape of 2d Array in column major\",col_arr.shape)\n",
        "\n"
      ],
      "execution_count": 39,
      "outputs": [
        {
          "output_type": "stream",
          "text": [
            "\n",
            " shape of array : (6,)\n",
            "\n",
            " Shape of 2d Array in row major (1, 6)\n",
            "\n",
            " Shape of 2d Array in column major (6, 1)\n"
          ],
          "name": "stdout"
        }
      ]
    },
    {
      "cell_type": "markdown",
      "metadata": {
        "id": "9cgkiSwfl3-2"
      },
      "source": [
        "Question 5:\n",
        " \n",
        " Hint: Use vstack(), hstack()\n",
        "\n",
        "\n",
        "\n"
      ]
    },
    {
      "cell_type": "code",
      "metadata": {
        "id": "qxdU5RChmmKO",
        "outputId": "f84caf94-2ed3-4a82-8825-890fc56b88a9",
        "colab": {
          "base_uri": "https://localhost:8080/"
        }
      },
      "source": [
        "import numpy as np\n",
        "\n",
        "arr_1 = np.square([1,2,3,4,5])\n",
        "arr_2 = np.square([6,7,8,9,10])\n",
        "\n",
        "print(\"\\nvertical Append:\",np.vstack((arr_1,arr_2)))\n",
        "print(\"\\n horizontal Append:\",np.hstack((arr_1,arr_2)))                  "
      ],
      "execution_count": 36,
      "outputs": [
        {
          "output_type": "stream",
          "text": [
            "\n",
            "vertical Append: [[  1   4   9  16  25]\n",
            " [ 36  49  64  81 100]]\n",
            "\n",
            " horizontal Append: [  1   4   9  16  25  36  49  64  81 100]\n"
          ],
          "name": "stdout"
        }
      ]
    },
    {
      "cell_type": "markdown",
      "metadata": {
        "id": "S0mT9rK2ELf-"
      },
      "source": [
        "Question 6:\n"
      ]
    },
    {
      "cell_type": "markdown",
      "metadata": {
        "id": "TB0MRKJ7HCT8"
      },
      "source": [
        "How to get unique items and counts of unique items?\n",
        "\n",
        "  unique method is used to get the unique values from the list and return count attribute of unique method return the count of unique value from the list."
      ]
    },
    {
      "cell_type": "code",
      "metadata": {
        "id": "3r8iVsH_Hoyk",
        "outputId": "963cf7e8-1d64-4784-de30-5ee8e297ca6d",
        "colab": {
          "base_uri": "https://localhost:8080/"
        }
      },
      "source": [
        "def unique(list1):\n",
        "  x = np.array(list1)\n",
        "  print(np.unique(x))\n",
        "\n",
        "list1 = [1,2,3,5,3,4]\n",
        "print(\"The unique values from 1st list is:\")\n",
        "unique(list1)\n",
        "\n",
        "new_set = set(list1)\n",
        "print(\"\\n The count of the list1 is\",len(new_set))\n",
        "\n"
      ],
      "execution_count": 66,
      "outputs": [
        {
          "output_type": "stream",
          "text": [
            "The unique values from 1st list is:\n",
            "[1 2 3 4 5]\n",
            "\n",
            " The count of the list1 is 5\n"
          ],
          "name": "stdout"
        }
      ]
    }
  ]
}