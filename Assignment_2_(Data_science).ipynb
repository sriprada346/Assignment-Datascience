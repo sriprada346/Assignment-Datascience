{
  "nbformat": 4,
  "nbformat_minor": 0,
  "metadata": {
    "colab": {
      "name": "Assignment 2 (Data science).ipynb",
      "provenance": [],
      "collapsed_sections": []
    },
    "kernelspec": {
      "name": "python3",
      "display_name": "Python 3"
    }
  },
  "cells": [
    {
      "cell_type": "markdown",
      "metadata": {
        "id": "X5r69RovU2GH"
      },
      "source": [
        "Assignment 2\n",
        "\n"
      ]
    },
    {
      "cell_type": "markdown",
      "metadata": {
        "id": "uKtp8ELjU877"
      },
      "source": [
        "Question 1:"
      ]
    },
    {
      "cell_type": "code",
      "metadata": {
        "id": "w4-vEqD_ZbYJ",
        "outputId": "bf966f93-ab38-469a-855d-d3ccf0ce212b",
        "colab": {
          "base_uri": "https://localhost:8080/"
        }
      },
      "source": [
        "l = []\n",
        "numbers = int(input(\"Enters the numbers :\\n\"))\n",
        "for i in range(9):\n",
        "  x = int(input())\n",
        "  if i % 2 == 0:\n",
        "    l.append(x)\n",
        "\n",
        "print(l)    "
      ],
      "execution_count": null,
      "outputs": [
        {
          "output_type": "stream",
          "text": [
            "Enters the numbers :\n",
            "1\n",
            "2\n",
            "5\n",
            "6\n",
            "4\n",
            "9\n",
            "9\n",
            "7\n",
            "6\n",
            "1\n",
            "[2, 6, 9, 7, 1]\n"
          ],
          "name": "stdout"
        }
      ]
    },
    {
      "cell_type": "markdown",
      "metadata": {
        "id": "Je81dJFN6Zvd"
      },
      "source": [
        " Question 2: \n",
        "\n",
        "List Comprehension."
      ]
    },
    {
      "cell_type": "markdown",
      "metadata": {
        "id": "DGAt58Y2q-zB"
      },
      "source": [
        "List comprehension are used for creating other literables.\n",
        "\n",
        "It consisit of brackets containing an expression followed by a for clauses.\n",
        "\n",
        "SYNTAX:\n",
        "      [expression for item in list] \n",
        "\n",
        "   Ex:    \n"
      ]
    },
    {
      "cell_type": "code",
      "metadata": {
        "id": "0gtLQYePr_-j",
        "outputId": "c3052438-119e-426d-eb5e-17cc0d8028ca",
        "colab": {
          "base_uri": "https://localhost:8080/"
        }
      },
      "source": [
        "#List Comprehension\n",
        "squares = [x**2 for x in range(10)]\n",
        "print(squares)"
      ],
      "execution_count": null,
      "outputs": [
        {
          "output_type": "stream",
          "text": [
            "[0, 1, 4, 9, 16, 25, 36, 49, 64, 81]\n"
          ],
          "name": "stdout"
        }
      ]
    },
    {
      "cell_type": "code",
      "metadata": {
        "id": "eRgn5H6Ltyto",
        "outputId": "12f75c91-690b-476e-c185-fe965df4e672",
        "colab": {
          "base_uri": "https://localhost:8080/"
        }
      },
      "source": [
        "#for loops\n",
        "squares = []\n",
        "for x in range(10):\n",
        "  squares.append(x**2)\n",
        "print(squares)\n"
      ],
      "execution_count": null,
      "outputs": [
        {
          "output_type": "stream",
          "text": [
            "[0, 1, 4, 9, 16, 25, 36, 49, 64, 81]\n"
          ],
          "name": "stdout"
        }
      ]
    },
    {
      "cell_type": "markdown",
      "metadata": {
        "id": "c2BOF-vyuQGg"
      },
      "source": [
        "Question 3:"
      ]
    },
    {
      "cell_type": "code",
      "metadata": {
        "id": "i0rymra0EM-b",
        "outputId": "1ef539b2-c38d-4f15-db0f-c53d3289485a",
        "colab": {
          "base_uri": "https://localhost:8080/"
        }
      },
      "source": [
        "dic = {}\n",
        "n = int(input())\n",
        "for i in range(1,n+1):\n",
        "  dic[i] = i*i\n",
        "print(dic)  \n"
      ],
      "execution_count": 5,
      "outputs": [
        {
          "output_type": "stream",
          "text": [
            "3\n",
            "{1: 1, 2: 4, 3: 9}\n"
          ],
          "name": "stdout"
        }
      ]
    },
    {
      "cell_type": "markdown",
      "metadata": {
        "id": "gDJxDRaxGz8Z"
      },
      "source": [
        "Question 4:"
      ]
    },
    {
      "cell_type": "code",
      "metadata": {
        "id": "WkjUZiqwHjnR",
        "outputId": "265cddcf-cdd8-4742-d94d-d66cc75c8959",
        "colab": {
          "base_uri": "https://localhost:8080/"
        }
      },
      "source": [
        "#creating origin position\n",
        "pos = {\"x\":0,\"y\":0}\n",
        "n = int(input())\n",
        "for i in range (n):\n",
        "  move = input().split(\" \")\n",
        "  \n",
        "  if move[0].lower() == \"up\":\n",
        "    pos[\"y\"] += int(move[1])\n",
        "  \n",
        "  elif move[0].lower() == \"down\":\n",
        "    pos[\"y\"] -= int(move[1])\n",
        "\n",
        "  elif move[0].lower() == \"left\":\n",
        "    pos[\"x\"] -= int(move[1])\n",
        "\n",
        "  elif move[0].lower() == \"right\":\n",
        "    pos[\"x\"] += int(move[1])\n",
        "\n",
        "print(int(round((pos[\"x\"]**2 + pos[\"y\"]**2)**0.5)))\n"
      ],
      "execution_count": 37,
      "outputs": [
        {
          "output_type": "stream",
          "text": [
            "4\n",
            "UP 4\n",
            "LEFT 5\n",
            "DOWN 3\n",
            "RIGHT 2\n",
            "3\n"
          ],
          "name": "stdout"
        }
      ]
    },
    {
      "cell_type": "code",
      "metadata": {
        "id": "tcI-bze1NrWH"
      },
      "source": [
        ""
      ],
      "execution_count": 33,
      "outputs": []
    }
  ]
}